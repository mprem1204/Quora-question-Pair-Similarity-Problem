{
  "nbformat": 4,
  "nbformat_minor": 0,
  "metadata": {
    "colab": {
      "name": "m.prem1204@gmail.com_20.ipynb",
      "version": "0.3.2",
      "provenance": [],
      "collapsed_sections": []
    },
    "kernelspec": {
      "name": "python3",
      "display_name": "Python 3"
    }
  },
  "cells": [
    {
      "metadata": {
        "id": "diZP8BWwGegQ",
        "colab_type": "text"
      },
      "cell_type": "markdown",
      "source": [
        "<h1> Quora question pair similarity</h1>"
      ]
    },
    {
      "metadata": {
        "id": "PccuaBC-32HF",
        "colab_type": "code",
        "colab": {}
      },
      "cell_type": "code",
      "source": [
        "import pandas as pd\n",
        "import matplotlib.pyplot as plt\n",
        "import re\n",
        "import time\n",
        "import warnings\n",
        "import numpy as np\n",
        "from nltk.corpus import stopwords\n",
        "from sklearn.preprocessing import normalize\n",
        "from sklearn.feature_extraction.text import CountVectorizer\n",
        "from sklearn.feature_extraction.text import TfidfVectorizer\n",
        "warnings.filterwarnings(\"ignore\")\n",
        "import sys\n",
        "import os \n",
        "import pandas as pd\n",
        "import numpy as np\n",
        "from tqdm import tqdm\n",
        "\n",
        "# exctract word2vec vectors\n",
        "# https://github.com/explosion/spaCy/issues/1721\n",
        "# http://landinghub.visualstudio.com/visual-cpp-build-tools\n",
        "import spacy\n",
        "import pandas as pd\n",
        "import matplotlib.pyplot as plt\n",
        "import re\n",
        "import time\n",
        "import warnings\n",
        "import sqlite3\n",
        "from sqlalchemy import create_engine # database connection\n",
        "import csv\n",
        "import os\n",
        "warnings.filterwarnings(\"ignore\")\n",
        "import datetime as dt\n",
        "import numpy as np\n",
        "from nltk.corpus import stopwords\n",
        "from sklearn.decomposition import TruncatedSVD\n",
        "from sklearn.preprocessing import normalize\n",
        "from sklearn.feature_extraction.text import CountVectorizer\n",
        "from sklearn.manifold import TSNE\n",
        "import seaborn as sns\n",
        "from sklearn.neighbors import KNeighborsClassifier\n",
        "from sklearn.metrics import confusion_matrix\n",
        "from sklearn.metrics.classification import accuracy_score, log_loss\n",
        "from sklearn.feature_extraction.text import TfidfVectorizer\n",
        "from collections import Counter\n",
        "from scipy.sparse import hstack\n",
        "from sklearn.multiclass import OneVsRestClassifier\n",
        "from sklearn.svm import SVC\n",
        "from sklearn.model_selection import StratifiedKFold \n",
        "from collections import Counter, defaultdict\n",
        "from sklearn.calibration import CalibratedClassifierCV\n",
        "from sklearn.naive_bayes import MultinomialNB\n",
        "from sklearn.naive_bayes import GaussianNB\n",
        "from sklearn.model_selection import train_test_split\n",
        "from sklearn.model_selection import GridSearchCV\n",
        "import math\n",
        "from sklearn.metrics import normalized_mutual_info_score\n",
        "from sklearn.ensemble import RandomForestClassifier\n",
        "\n",
        "\n",
        "\n",
        "from sklearn.model_selection import cross_val_score\n",
        "from sklearn.linear_model import SGDClassifier\n",
        "from mlxtend.classifier import StackingClassifier\n",
        "\n",
        "from sklearn import model_selection\n",
        "from sklearn.linear_model import LogisticRegression\n",
        "from sklearn.metrics import precision_recall_curve, auc, roc_curve"
      ],
      "execution_count": 0,
      "outputs": []
    },
    {
      "metadata": {
        "id": "vkGf0iMDj6zQ",
        "colab_type": "text"
      },
      "cell_type": "markdown",
      "source": [
        "<h2> 1. Loading Data</h2>"
      ]
    },
    {
      "metadata": {
        "id": "EmTWUjeo5EhE",
        "colab_type": "code",
        "colab": {}
      },
      "cell_type": "code",
      "source": [
        "df1=pd.read_csv(\"df_fe_without_preprocessing_train.csv\",encoding='latin-1')\n",
        "df1=df1[0:40000]\n"
      ],
      "execution_count": 0,
      "outputs": []
    },
    {
      "metadata": {
        "id": "rJ_wfP5j8Udj",
        "colab_type": "code",
        "colab": {}
      },
      "cell_type": "code",
      "source": [
        "df2=pd.read_csv(\"nlp_features_train.csv\",encoding='latin-1')\n",
        "df2=df2[0:40000]\n",
        "df2=df2.drop(['qid1','qid2','question1','question2'],axis=1)"
      ],
      "execution_count": 0,
      "outputs": []
    },
    {
      "metadata": {
        "id": "iPMxRqgV9b15",
        "colab_type": "code",
        "colab": {}
      },
      "cell_type": "code",
      "source": [
        "df1  = df1.merge(df2, on='id',how='left')\n",
        "df1 = df1.replace(np.nan, '', regex=True)"
      ],
      "execution_count": 0,
      "outputs": []
    },
    {
      "metadata": {
        "id": "cq981RX1ByGi",
        "colab_type": "code",
        "colab": {}
      },
      "cell_type": "code",
      "source": [
        "y = df1['is_duplicate_x'].values\n",
        "df1.drop(['is_duplicate_x'], axis=1, inplace=True)\n",
        "df1['question1'] = df1['question1'].apply(lambda x: str(x))\n",
        "df1['question2'] = df1['question2'].apply(lambda x: str(x))"
      ],
      "execution_count": 0,
      "outputs": []
    },
    {
      "metadata": {
        "id": "8M_nsXaFkh0r",
        "colab_type": "text"
      },
      "cell_type": "markdown",
      "source": [
        "<h2>2. Splitting data into Train and Test</h2>"
      ]
    },
    {
      "metadata": {
        "id": "Pgin7u_GCBTa",
        "colab_type": "code",
        "colab": {}
      },
      "cell_type": "code",
      "source": [
        "X = df1\n",
        "# train test split\n",
        "from sklearn.model_selection import train_test_split\n",
        "X_train, X_test, y_train, y_test = train_test_split(X, y, test_size=0.3, stratify=y)"
      ],
      "execution_count": 0,
      "outputs": []
    },
    {
      "metadata": {
        "id": "sbFHXQNfOVLA",
        "colab_type": "code",
        "colab": {}
      },
      "cell_type": "code",
      "source": [
        "X_train1=X_train[['id','freq_qid1','freq_qid2', 'q1len', 'q2len', 'q1_n_words', 'q2_n_words','word_Common', 'word_Total', 'word_share', 'freq_q1+q2', 'freq_q1-q2','is_duplicate_y', 'cwc_min', 'cwc_max', 'csc_min', 'csc_max', 'ctc_min','ctc_max', 'last_word_eq', 'first_word_eq', 'abs_len_diff', 'mean_len','token_set_ratio', 'token_sort_ratio', 'fuzz_ratio','fuzz_partial_ratio', 'longest_substr_ratio']]\n",
        "X_train2=X_train[['id','freq_qid1','freq_qid2', 'q1len', 'q2len', 'q1_n_words', 'q2_n_words','word_Common', 'word_Total', 'word_share', 'freq_q1+q2', 'freq_q1-q2','is_duplicate_y', 'cwc_min', 'cwc_max', 'csc_min', 'csc_max', 'ctc_min','ctc_max', 'last_word_eq', 'first_word_eq', 'abs_len_diff', 'mean_len','token_set_ratio', 'token_sort_ratio', 'fuzz_ratio','fuzz_partial_ratio', 'longest_substr_ratio']]\n",
        "X_test1=X_test[['id','freq_qid1','freq_qid2', 'q1len', 'q2len', 'q1_n_words', 'q2_n_words','word_Common', 'word_Total', 'word_share', 'freq_q1+q2', 'freq_q1-q2','is_duplicate_y', 'cwc_min', 'cwc_max', 'csc_min', 'csc_max', 'ctc_min','ctc_max', 'last_word_eq', 'first_word_eq', 'abs_len_diff', 'mean_len','token_set_ratio', 'token_sort_ratio', 'fuzz_ratio','fuzz_partial_ratio', 'longest_substr_ratio']]\n",
        "X_test2=X_test[['id','freq_qid1','freq_qid2', 'q1len', 'q2len', 'q1_n_words', 'q2_n_words','word_Common', 'word_Total', 'word_share', 'freq_q1+q2', 'freq_q1-q2','is_duplicate_y', 'cwc_min', 'cwc_max', 'csc_min', 'csc_max', 'ctc_min','ctc_max', 'last_word_eq', 'first_word_eq', 'abs_len_diff', 'mean_len','token_set_ratio', 'token_sort_ratio', 'fuzz_ratio','fuzz_partial_ratio', 'longest_substr_ratio']]\n"
      ],
      "execution_count": 0,
      "outputs": []
    },
    {
      "metadata": {
        "id": "Xb-T89CFlv38",
        "colab_type": "text"
      },
      "cell_type": "markdown",
      "source": [
        "<h2>3. Vectorizing Text Features</h2>"
      ]
    },
    {
      "metadata": {
        "id": "T-RtU00ZCg6-",
        "colab_type": "code",
        "outputId": "e62949a3-d31b-41b8-c47a-d790f1ace0c3",
        "colab": {
          "base_uri": "https://localhost:8080/",
          "height": 85
        }
      },
      "cell_type": "code",
      "source": [
        "#I'm making use of the code from the sample assignment and second assignment\n",
        "vectorizer = TfidfVectorizer(min_df=5)\n",
        "vectorizer.fit(X_train['question1'].values)\n",
        "# we use the fitted CountVectorizer to convert the text to vector\n",
        "X_train_question1_tfidf = vectorizer.transform(X_train['question1'].values)\n",
        "X_test_question1_tfidf = vectorizer.transform(X_test['question1'].values)\n",
        "print(\"After tfidf vectorizations:question1\")\n",
        "print(X_train_question1_tfidf.shape, y_train.shape)\n",
        "print(X_test_question1_tfidf.shape, y_test.shape)\n",
        "print(\"=\"*100)"
      ],
      "execution_count": 0,
      "outputs": [
        {
          "output_type": "stream",
          "text": [
            "After tfidf vectorizations:question1\n",
            "(28000, 4801) (28000,)\n",
            "(12000, 4801) (12000,)\n",
            "====================================================================================================\n"
          ],
          "name": "stdout"
        }
      ]
    },
    {
      "metadata": {
        "id": "og53KZV_EBwh",
        "colab_type": "code",
        "outputId": "a12adbc9-6ce5-4690-b0b9-30ff2f1ee3a8",
        "colab": {
          "base_uri": "https://localhost:8080/",
          "height": 85
        }
      },
      "cell_type": "code",
      "source": [
        "#I'm making use of the code from the sample assignment and second assignment\n",
        "vectorizer = TfidfVectorizer(min_df=5)\n",
        "vectorizer.fit(X_train['question2'].values)\n",
        "# we use the fitted CountVectorizer to convert the text to vector\n",
        "X_train_question2_tfidf = vectorizer.transform(X_train['question2'].values)\n",
        "X_test_question2_tfidf = vectorizer.transform(X_test['question2'].values)\n",
        "print(\"After tfidf vectorizations:question2\")\n",
        "print(X_train_question2_tfidf.shape, y_train.shape)\n",
        "print(X_test_question2_tfidf.shape, y_test.shape)\n",
        "print(\"=\"*100)"
      ],
      "execution_count": 0,
      "outputs": [
        {
          "output_type": "stream",
          "text": [
            "After tfidf vectorizations:question2\n",
            "(28000, 4745) (28000,)\n",
            "(12000, 4745) (12000,)\n",
            "====================================================================================================\n"
          ],
          "name": "stdout"
        }
      ]
    },
    {
      "metadata": {
        "id": "i2pSvvuRmHLA",
        "colab_type": "text"
      },
      "cell_type": "markdown",
      "source": [
        "<h2>4 . Preparing Set-1</h2>"
      ]
    },
    {
      "metadata": {
        "id": "k8gPIDHmYc-e",
        "colab_type": "code",
        "colab": {}
      },
      "cell_type": "code",
      "source": [
        "X_train_question1_tfidf=pd.DataFrame(X_train_question1_tfidf.toarray())\n",
        "X_test_question1_tfidf=pd.DataFrame(X_test_question1_tfidf.toarray())\n",
        "X_train_question2_tfidf=pd.DataFrame(X_train_question2_tfidf.toarray())\n",
        "X_test_question2_tfidf=pd.DataFrame(X_test_question2_tfidf.toarray())"
      ],
      "execution_count": 0,
      "outputs": []
    },
    {
      "metadata": {
        "id": "2NLFF6zfZWU6",
        "colab_type": "code",
        "colab": {}
      },
      "cell_type": "code",
      "source": [
        "X_train_question1_tfidf[\"id\"]=X_train1[\"id\"].values\n",
        "X_train_question2_tfidf[\"id\"]=X_train1[\"id\"].values\n",
        "\n",
        "X_test_question1_tfidf[\"id\"]=X_test1[\"id\"].values\n",
        "X_test_question2_tfidf[\"id\"]=X_test1[\"id\"].values"
      ],
      "execution_count": 0,
      "outputs": []
    },
    {
      "metadata": {
        "id": "CELn7fW-aS84",
        "colab_type": "code",
        "colab": {}
      },
      "cell_type": "code",
      "source": [
        "X_train1  = X_train1.merge(X_train_question1_tfidf, on='id',how='left')\n",
        "X_train1  = X_train1.merge(X_train_question2_tfidf, on='id',how='left')\n",
        "X_test1 = X_test1.merge(X_test_question1_tfidf, on='id',how='left')\n",
        "X_test1 = X_test1.merge(X_test_question2_tfidf, on='id',how='left')"
      ],
      "execution_count": 0,
      "outputs": []
    },
    {
      "metadata": {
        "id": "lBJO6rEAo1NH",
        "colab_type": "code",
        "colab": {}
      },
      "cell_type": "code",
      "source": [
        "X_train1.drop(['id','is_duplicate_y'], axis=1, inplace=True)\n",
        "X_test1.drop(['id','is_duplicate_y'], axis=1, inplace=True)"
      ],
      "execution_count": 0,
      "outputs": []
    },
    {
      "metadata": {
        "id": "diz36Cd4tMQe",
        "colab_type": "code",
        "outputId": "d42a8ef7-90e3-4e82-861a-036f79018966",
        "colab": {
          "base_uri": "https://localhost:8080/",
          "height": 51
        }
      },
      "cell_type": "code",
      "source": [
        "print(\"Number of data points in train data :\",X_train1.shape)\n",
        "print(\"Number of data points in test data :\",X_test1.shape)"
      ],
      "execution_count": 0,
      "outputs": [
        {
          "output_type": "stream",
          "text": [
            "Number of data points in train data : (28000, 9572)\n",
            "Number of data points in test data : (12000, 9572)\n"
          ],
          "name": "stdout"
        }
      ]
    },
    {
      "metadata": {
        "id": "h_aVfkZEteIm",
        "colab_type": "code",
        "outputId": "62a018c8-0ff1-44b6-e0b6-ce54090a3f5a",
        "colab": {
          "base_uri": "https://localhost:8080/",
          "height": 85
        }
      },
      "cell_type": "code",
      "source": [
        "from collections import Counter\n",
        "print(\"-\"*10, \"Distribution of output variable in train data\", \"-\"*10)\n",
        "train_distr = Counter(y_train)\n",
        "train_len = len(y_train)\n",
        "print(\"Class 0: \",int(train_distr[0])/train_len,\"Class 1: \", int(train_distr[1])/train_len)\n",
        "print(\"-\"*10, \"Distribution of output variable in test data\", \"-\"*10)\n",
        "test_distr = Counter(y_test)\n",
        "test_len = len(y_test)\n",
        "print(\"Class 0: \",int(test_distr[1])/test_len, \"Class 1: \",int(test_distr[1])/test_len)"
      ],
      "execution_count": 0,
      "outputs": [
        {
          "output_type": "stream",
          "text": [
            "---------- Distribution of output variable in train data ----------\n",
            "Class 0:  0.6277142857142857 Class 1:  0.3722857142857143\n",
            "---------- Distribution of output variable in test data ----------\n",
            "Class 0:  0.37225 Class 1:  0.37225\n"
          ],
          "name": "stdout"
        }
      ]
    },
    {
      "metadata": {
        "id": "JbcnS91KuBUV",
        "colab_type": "code",
        "colab": {}
      },
      "cell_type": "code",
      "source": [
        "# This function plots the confusion matrices given y_i, y_i_hat.\n",
        "def plot_confusion_matrix(test_y, predict_y):\n",
        "    C = confusion_matrix(test_y, predict_y)\n",
        "    # C = 9,9 matrix, each cell (i,j) represents number of points of class i are predicted class j\n",
        "    \n",
        "    A =(((C.T)/(C.sum(axis=1))).T)\n",
        "    #divid each element of the confusion matrix with the sum of elements in that column\n",
        "    \n",
        "    # C = [[1, 2],\n",
        "    #     [3, 4]]\n",
        "    # C.T = [[1, 3],\n",
        "    #        [2, 4]]\n",
        "    # C.sum(axis = 1)  axis=0 corresonds to columns and axis=1 corresponds to rows in two diamensional array\n",
        "    # C.sum(axix =1) = [[3, 7]]\n",
        "    # ((C.T)/(C.sum(axis=1))) = [[1/3, 3/7]\n",
        "    #                           [2/3, 4/7]]\n",
        "\n",
        "    # ((C.T)/(C.sum(axis=1))).T = [[1/3, 2/3]\n",
        "    #                           [3/7, 4/7]]\n",
        "    # sum of row elements = 1\n",
        "    \n",
        "    B =(C/C.sum(axis=0))\n",
        "    #divid each element of the confusion matrix with the sum of elements in that row\n",
        "    # C = [[1, 2],\n",
        "    #     [3, 4]]\n",
        "    # C.sum(axis = 0)  axis=0 corresonds to columns and axis=1 corresponds to rows in two diamensional array\n",
        "    # C.sum(axix =0) = [[4, 6]]\n",
        "    # (C/C.sum(axis=0)) = [[1/4, 2/6],\n",
        "    #                      [3/4, 4/6]] \n",
        "    plt.figure(figsize=(20,4))\n",
        "    \n",
        "    labels = [1,2]\n",
        "    # representing A in heatmap format\n",
        "    cmap=sns.light_palette(\"blue\")\n",
        "    plt.subplot(1, 3, 1)\n",
        "    sns.heatmap(C, annot=True, cmap=cmap, fmt=\".3f\", xticklabels=labels, yticklabels=labels)\n",
        "    plt.xlabel('Predicted Class')\n",
        "    plt.ylabel('Original Class')\n",
        "    plt.title(\"Confusion matrix\")\n",
        "    \n",
        "    plt.subplot(1, 3, 2)\n",
        "    sns.heatmap(B, annot=True, cmap=cmap, fmt=\".3f\", xticklabels=labels, yticklabels=labels)\n",
        "    plt.xlabel('Predicted Class')\n",
        "    plt.ylabel('Original Class')\n",
        "    plt.title(\"Precision matrix\")\n",
        "    \n",
        "    plt.subplot(1, 3, 3)\n",
        "    # representing B in heatmap format\n",
        "    sns.heatmap(A, annot=True, cmap=cmap, fmt=\".3f\", xticklabels=labels, yticklabels=labels)\n",
        "    plt.xlabel('Predicted Class')\n",
        "    plt.ylabel('Original Class')\n",
        "    plt.title(\"Recall matrix\")\n",
        "    \n",
        "    plt.show()"
      ],
      "execution_count": 0,
      "outputs": []
    },
    {
      "metadata": {
        "id": "hEftsR0-uOBY",
        "colab_type": "text"
      },
      "cell_type": "markdown",
      "source": [
        "<h2>4. Building a random model (Finding worst-case log-loss)</h2>\n",
        "\n",
        "<p>We are trying to buid an Random model because to set an upper limit to our loss.\n",
        "  As  logg loss can go from 0 to infinity to avoid this we are building a random model. which means any of our models log loss score must be less than the score of our random model and greater than zero"
      ]
    },
    {
      "metadata": {
        "id": "Y8UYv2NmuF3-",
        "colab_type": "code",
        "outputId": "42254b77-0cbe-4ec4-fc79-29def9ff3bfa",
        "colab": {
          "base_uri": "https://localhost:8080/",
          "height": 334
        }
      },
      "cell_type": "code",
      "source": [
        "from sklearn.metrics.classification import accuracy_score, log_loss\n",
        "# we need to generate 9 numbers and the sum of numbers should be 1\n",
        "# one solution is to genarate 9 numbers and divide each of the numbers by their sum\n",
        "# ref: https://stackoverflow.com/a/18662466/4084039\n",
        "# we create a output array that has exactly same size as the CV data\n",
        "predicted_y = np.zeros((test_len,2))\n",
        "for i in range(test_len):\n",
        "    rand_probs = np.random.rand(1,2)\n",
        "    predicted_y[i] = ((rand_probs/sum(sum(rand_probs)))[0])\n",
        "print(\"Log loss on Test Data using Random Model\",log_loss(y_test, predicted_y, eps=1e-15))\n",
        "\n",
        "predicted_y =np.argmax(predicted_y, axis=1)\n",
        "plot_confusion_matrix(y_test, predicted_y)"
      ],
      "execution_count": 0,
      "outputs": [
        {
          "output_type": "stream",
          "text": [
            "Log loss on Test Data using Random Model 0.8903189881621673\n"
          ],
          "name": "stdout"
        },
        {
          "output_type": "display_data",
          "data": {
            "image/png": "[encoded data removed]",
            "text/plain": [
              "<Figure size 1440x288 with 6 Axes>"
            ]
          },
          "metadata": {
            "tags": []
          }
        }
      ]
    },
    {
      "metadata": {
        "id": "Ck8uetBTAOdo",
        "colab_type": "text"
      },
      "cell_type": "markdown",
      "source": [
        "**Observation:**\n",
        "\n",
        "\n",
        "1.   Log loss of the Random model is 0.89\n",
        "2.   which means that any model that we take now should be between 0 to 0.89\n",
        "\n"
      ]
    },
    {
      "metadata": {
        "id": "JfawNu0swNMg",
        "colab_type": "text"
      },
      "cell_type": "markdown",
      "source": [
        "<h2>5. Logistic Regression with hyperparameter tuning for Set-1</h2>"
      ]
    },
    {
      "metadata": {
        "id": "NfBQu5QAzXRi",
        "colab_type": "code",
        "outputId": "2df0bdd8-3088-40b5-92ed-50079b1dbfca",
        "colab": {
          "base_uri": "https://localhost:8080/",
          "height": 775
        }
      },
      "cell_type": "code",
      "source": [
        "alpha = [10 ** x for x in range(-5, 2)] # hyperparam for SGD classifier.\n",
        "\n",
        "# read more about SGDClassifier() at http://scikit-learn.org/stable/modules/generated/sklearn.linear_model.SGDClassifier.html\n",
        "# ------------------------------\n",
        "# default parameters\n",
        "# SGDClassifier(loss=’hinge’, penalty=’l2’, alpha=0.0001, l1_ratio=0.15, fit_intercept=True, max_iter=None, tol=None, \n",
        "# shuffle=True, verbose=0, epsilon=0.1, n_jobs=1, random_state=None, learning_rate=’optimal’, eta0=0.0, power_t=0.5, \n",
        "# class_weight=None, warm_start=False, average=False, n_iter=None)\n",
        "\n",
        "# some of methods\n",
        "# fit(X, y[, coef_init, intercept_init, …])\tFit linear model with Stochastic Gradient Descent.\n",
        "# predict(X)\tPredict class labels for samples in X.\n",
        "\n",
        "#-------------------------------\n",
        "# video link: \n",
        "#------------------------------\n",
        "\n",
        "\n",
        "log_error_array=[]\n",
        "for i in alpha:\n",
        "    clf = SGDClassifier(alpha=i, penalty='l2', loss='log', random_state=42)\n",
        "    clf.fit(X_train1, y_train)\n",
        "    sig_clf = CalibratedClassifierCV(clf, method=\"sigmoid\")\n",
        "    sig_clf.fit(X_train1, y_train)\n",
        "    predict_y = sig_clf.predict_proba(X_test1)\n",
        "    log_error_array.append(log_loss(y_test, predict_y, labels=clf.classes_, eps=1e-15))\n",
        "    print('For values of alpha = ', i, \"The log loss is:\",log_loss(y_test, predict_y, labels=clf.classes_, eps=1e-15))\n",
        "\n",
        "fig, ax = plt.subplots()\n",
        "ax.plot(alpha, log_error_array,c='g')\n",
        "for i, txt in enumerate(np.round(log_error_array,3)):\n",
        "    ax.annotate((alpha[i],np.round(txt,3)), (alpha[i],log_error_array[i]))\n",
        "plt.grid()\n",
        "plt.title(\"Cross Validation Error for each alpha\")\n",
        "plt.xlabel(\"Alpha i's\")\n",
        "plt.ylabel(\"Error measure\")\n",
        "plt.show()\n",
        "\n",
        "\n",
        "best_alpha = np.argmin(log_error_array)\n",
        "clf = SGDClassifier(alpha=alpha[best_alpha], penalty='l2', loss='log', random_state=42)\n",
        "clf.fit(X_train1, y_train)\n",
        "sig_clf = CalibratedClassifierCV(clf, method=\"sigmoid\")\n",
        "sig_clf.fit(X_train1, y_train)\n",
        "\n",
        "predict_y = sig_clf.predict_proba(X_train1)\n",
        "print('For values of best alpha = ', alpha[best_alpha], \"The train log loss is:\",log_loss(y_train, predict_y, labels=clf.classes_, eps=1e-15))\n",
        "predict_y = sig_clf.predict_proba(X_test1)\n",
        "print('For values of best alpha = ', alpha[best_alpha], \"The test log loss is:\",log_loss(y_test, predict_y, labels=clf.classes_, eps=1e-15))\n",
        "predicted_y =np.argmax(predict_y,axis=1)\n",
        "print(\"Total number of data points :\", len(predicted_y))\n",
        "plot_confusion_matrix(y_test, predicted_y)"
      ],
      "execution_count": 0,
      "outputs": [
        {
          "output_type": "stream",
          "text": [
            "For values of alpha =  1e-05 The log loss is: 0.4606761510234318\n",
            "For values of alpha =  0.0001 The log loss is: 0.46383756163373513\n",
            "For values of alpha =  0.001 The log loss is: 0.4594723668904141\n",
            "For values of alpha =  0.01 The log loss is: 0.4620482648633433\n",
            "For values of alpha =  0.1 The log loss is: 0.458334834349055\n",
            "For values of alpha =  1 The log loss is: 0.49436899008659657\n",
            "For values of alpha =  10 The log loss is: 0.5449354833015054\n"
          ],
          "name": "stdout"
        },
        {
          "output_type": "display_data",
          "data": {
            "image/png": "[encoded data removed]",
            "text/plain": [
              "<Figure size 432x288 with 1 Axes>"
            ]
          },
          "metadata": {
            "tags": []
          }
        },
        {
          "output_type": "stream",
          "text": [
            "For values of best alpha =  0.1 The train log loss is: 0.4564962975235125\n",
            "For values of best alpha =  0.1 The test log loss is: 0.458334834349055\n",
            "Total number of data points : 12000\n"
          ],
          "name": "stdout"
        },
        {
          "output_type": "display_data",
          "data": {
            "image/png": "[encoded data removed]",
            "text/plain": [
              "<Figure size 1440x288 with 6 Axes>"
            ]
          },
          "metadata": {
            "tags": []
          }
        }
      ]
    },
    {
      "metadata": {
        "id": "RwAVLy5ZAojh",
        "colab_type": "text"
      },
      "cell_type": "markdown",
      "source": [
        "**Observations:**\n",
        "\n",
        "\n",
        "1.   From the above block we got to know that the best value of alpha is 0.1\n",
        "2.   With that alpha we trained our model.\n",
        "3.   the test score we got is 0.45 which is certainly between 0 to 0.89 which is a good sign\n",
        "4.   based on the scores of train and test loss we can say that we are npt underfitting\n",
        "\n"
      ]
    },
    {
      "metadata": {
        "id": "w5ymfY7rzXji",
        "colab_type": "text"
      },
      "cell_type": "markdown",
      "source": [
        "<h2>5. Linear SVM with hyperparameter tuning </h2>"
      ]
    },
    {
      "metadata": {
        "id": "WMh-_xGKwMpK",
        "colab_type": "code",
        "outputId": "351a440f-46b8-4515-d82d-91d79412204b",
        "colab": {
          "base_uri": "https://localhost:8080/",
          "height": 775
        }
      },
      "cell_type": "code",
      "source": [
        "alpha = [10 ** x for x in range(-5, 2)] # hyperparam for SGD classifier.\n",
        "\n",
        "# read more about SGDClassifier() at http://scikit-learn.org/stable/modules/generated/sklearn.linear_model.SGDClassifier.html\n",
        "# ------------------------------\n",
        "# default parameters\n",
        "# SGDClassifier(loss=’hinge’, penalty=’l2’, alpha=0.0001, l1_ratio=0.15, fit_intercept=True, max_iter=None, tol=None, \n",
        "# shuffle=True, verbose=0, epsilon=0.1, n_jobs=1, random_state=None, learning_rate=’optimal’, eta0=0.0, power_t=0.5, \n",
        "# class_weight=None, warm_start=False, average=False, n_iter=None)\n",
        "\n",
        "# some of methods\n",
        "# fit(X, y[, coef_init, intercept_init, …])\tFit linear model with Stochastic Gradient Descent.\n",
        "# predict(X)\tPredict class labels for samples in X.\n",
        "\n",
        "#-------------------------------\n",
        "# video link: \n",
        "#------------------------------\n",
        "\n",
        "\n",
        "log_error_array=[]\n",
        "for i in alpha:\n",
        "    clf = SGDClassifier(alpha=i, penalty='l1', loss='hinge', random_state=42)\n",
        "    clf.fit(X_train1, y_train)\n",
        "    sig_clf = CalibratedClassifierCV(clf, method=\"sigmoid\")\n",
        "    sig_clf.fit(X_train1, y_train)\n",
        "    predict_y = sig_clf.predict_proba(X_test1)\n",
        "    log_error_array.append(log_loss(y_test, predict_y, labels=clf.classes_, eps=1e-15))\n",
        "    print('For values of alpha = ', i, \"The log loss is:\",log_loss(y_test, predict_y, labels=clf.classes_, eps=1e-15))\n",
        "\n",
        "fig, ax = plt.subplots()\n",
        "ax.plot(alpha, log_error_array,c='g')\n",
        "for i, txt in enumerate(np.round(log_error_array,3)):\n",
        "    ax.annotate((alpha[i],np.round(txt,3)), (alpha[i],log_error_array[i]))\n",
        "plt.grid()\n",
        "plt.title(\"Cross Validation Error for each alpha\")\n",
        "plt.xlabel(\"Alpha i's\")\n",
        "plt.ylabel(\"Error measure\")\n",
        "plt.show()\n",
        "\n",
        "\n",
        "best_alpha = np.argmin(log_error_array)\n",
        "clf = SGDClassifier(alpha=alpha[best_alpha], penalty='l1', loss='hinge', random_state=42)\n",
        "clf.fit(X_train1, y_train)\n",
        "sig_clf = CalibratedClassifierCV(clf, method=\"sigmoid\")\n",
        "sig_clf.fit(X_train1, y_train)\n",
        "\n",
        "predict_y = sig_clf.predict_proba(X_train1)\n",
        "print('For values of best alpha = ', alpha[best_alpha], \"The train log loss is:\",log_loss(y_train, predict_y, labels=clf.classes_, eps=1e-15))\n",
        "predict_y = sig_clf.predict_proba(X_test1)\n",
        "print('For values of best alpha = ', alpha[best_alpha], \"The test log loss is:\",log_loss(y_test, predict_y, labels=clf.classes_, eps=1e-15))\n",
        "predicted_y =np.argmax(predict_y,axis=1)\n",
        "print(\"Total number of data points :\", len(predicted_y))\n",
        "plot_confusion_matrix(y_test, predicted_y)"
      ],
      "execution_count": 0,
      "outputs": [
        {
          "output_type": "stream",
          "text": [
            "For values of alpha =  1e-05 The log loss is: 0.48035805581179125\n",
            "For values of alpha =  0.0001 The log loss is: 0.4791580086023243\n",
            "For values of alpha =  0.001 The log loss is: 0.4830668813149456\n",
            "For values of alpha =  0.01 The log loss is: 0.4831828802941518\n",
            "For values of alpha =  0.1 The log loss is: 0.47569671328279095\n",
            "For values of alpha =  1 The log loss is: 0.5859768504590218\n",
            "For values of alpha =  10 The log loss is: 0.6066935737524384\n"
          ],
          "name": "stdout"
        },
        {
          "output_type": "display_data",
          "data": {
            "image/png": "[encoded data removed]",
            "text/plain": [
              "<Figure size 432x288 with 1 Axes>"
            ]
          },
          "metadata": {
            "tags": []
          }
        },
        {
          "output_type": "stream",
          "text": [
            "For values of best alpha =  0.1 The train log loss is: 0.4745570887296791\n",
            "For values of best alpha =  0.1 The test log loss is: 0.47569671328279095\n",
            "Total number of data points : 12000\n"
          ],
          "name": "stdout"
        },
        {
          "output_type": "display_data",
          "data": {
            "image/png": "[encoded data removed]",
            "text/plain": [
              "<Figure size 1440x288 with 6 Axes>"
            ]
          },
          "metadata": {
            "tags": []
          }
        }
      ]
    },
    {
      "metadata": {
        "id": "y9n6sAe2BxLB",
        "colab_type": "text"
      },
      "cell_type": "markdown",
      "source": [
        "**Observations:**\n",
        "\n",
        "\n",
        "1.   From the above block we got to know that the best value of alpha is 0.1\n",
        "2.   With that alpha we trained our model.\n",
        "3.   the test score we got is 0.47 which is certainly between 0 to 0.89 which is a good sign\n",
        "4.   based on the scores of train and test loss we can say that we are npt underfitting\n",
        "\n"
      ]
    },
    {
      "metadata": {
        "id": "hiCvYL9EpLYP",
        "colab_type": "text"
      },
      "cell_type": "markdown",
      "source": [
        "<h2>6. Preparing Set-2</h2>"
      ]
    },
    {
      "metadata": {
        "id": "mXJ8VwRgMEIW",
        "colab_type": "code",
        "colab": {}
      },
      "cell_type": "code",
      "source": [
        "questions = list(X_train['question1']) + list(X_train['question2'])\n",
        "tfidf = TfidfVectorizer(lowercase=False, )\n",
        "tfidf.fit_transform(questions)\n",
        "word2tfidf = dict(zip(tfidf.get_feature_names(), tfidf.idf_))\n",
        "def fun1(col):\n",
        "  df = pd.DataFrame() #creates a new dataframe that's empty\n",
        "  nlp = spacy.load('en_core_web_sm')\n",
        "  vec2=[]\n",
        "  vecs1 = []\n",
        "  for qu1 in list(col): # for each review/sentence\n",
        "    doc1 = nlp(qu1) \n",
        "    mean_vec1 = np.zeros([len(doc1), len(doc1[0].vector)])\n",
        "    for word1 in doc1: # for each word in a review/sentence\n",
        "        vec1 = word1.vector\n",
        "        # fetch df score\n",
        "        try:\n",
        "            idf = word2tfidf[str(word1)]\n",
        "        except:\n",
        "            idf = 0\n",
        "        # compute final vec\n",
        "        mean_vec1 += vec1 * idf\n",
        "    mean_vec1 = mean_vec1.mean(axis=0)\n",
        "    vecs1.append(mean_vec1)\n",
        "  df['q1_feats_m'] = list(vecs1)\n",
        "  return df"
      ],
      "execution_count": 0,
      "outputs": []
    },
    {
      "metadata": {
        "id": "evAqlu-ePwNY",
        "colab_type": "code",
        "colab": {}
      },
      "cell_type": "code",
      "source": [
        "X_train_question1_tfidf_w2v = fun1(X_train['question1'].values)\n",
        "X_test_question1_tfidf_w2v = fun1(X_test['question1'].values)\n",
        "X_train_question2_tfidf_w2v = fun1(X_train['question2'].values)\n",
        "X_test_question2_tfidf_w2v = fun1(X_test['question2'].values)"
      ],
      "execution_count": 0,
      "outputs": []
    },
    {
      "metadata": {
        "id": "YfQI3S0zRG-k",
        "colab_type": "code",
        "colab": {}
      },
      "cell_type": "code",
      "source": [
        "X_train_question1_tfidf_w2v = pd.DataFrame(X_train_question1_tfidf_w2v.q1_feats_m.values.tolist(), index= X_train_question1_tfidf_w2v.index)"
      ],
      "execution_count": 0,
      "outputs": []
    },
    {
      "metadata": {
        "id": "vOrJIh1aNFSq",
        "colab_type": "code",
        "colab": {}
      },
      "cell_type": "code",
      "source": [
        "X_test_question1_tfidf_w2v = pd.DataFrame(X_test_question1_tfidf_w2v.q1_feats_m.values.tolist(), index= X_test_question1_tfidf_w2v.index)\n",
        "X_train_question2_tfidf_w2v = pd.DataFrame(X_train_question2_tfidf_w2v.q1_feats_m.values.tolist(), index= X_train_question2_tfidf_w2v.index)\n",
        "X_test_question2_tfidf_w2v = pd.DataFrame(X_test_question2_tfidf_w2v.q1_feats_m.values.tolist(), index= X_test_question2_tfidf_w2v.index)"
      ],
      "execution_count": 0,
      "outputs": []
    },
    {
      "metadata": {
        "id": "eBp8Hkm7dF_d",
        "colab_type": "code",
        "colab": {}
      },
      "cell_type": "code",
      "source": [
        "X_train_question1_tfidf_w2v.drop(['id'],axis=1, inplace=True)\n",
        "X_train_question2_tfidf_w2v.drop(['id'],axis=1, inplace=True)\n",
        "X_test_question1_tfidf_w2v.drop(['id'],axis=1, inplace=True)\n",
        "X_test_question2_tfidf_w2v.drop(['id'],axis=1, inplace=True)"
      ],
      "execution_count": 0,
      "outputs": []
    },
    {
      "metadata": {
        "id": "RrPU0YDES-0o",
        "colab_type": "code",
        "colab": {}
      },
      "cell_type": "code",
      "source": [
        "X_train_question1_tfidf_w2v[\"id\"]=X_train2[\"id\"].values\n",
        "X_train_question2_tfidf_w2v[\"id\"]=X_train2[\"id\"].values\n",
        "\n",
        "X_test_question1_tfidf_w2v[\"id\"]=X_test2[\"id\"].values\n",
        "X_test_question2_tfidf_w2v[\"id\"]=X_test2[\"id\"].values"
      ],
      "execution_count": 0,
      "outputs": []
    },
    {
      "metadata": {
        "id": "X1yVlAv3RKmD",
        "colab_type": "code",
        "colab": {}
      },
      "cell_type": "code",
      "source": [
        "X_train2  = X_train2.merge(X_train_question1_tfidf_w2v, on='id',how='left')\n",
        "X_train2  = X_train2.merge(X_train_question2_tfidf_w2v, on='id',how='left')\n",
        "\n",
        "X_test2=X_test2.merge(X_test_question1_tfidf_w2v, on='id',how='left')\n",
        "X_test2=X_test2.merge(X_test_question2_tfidf_w2v, on='id',how='left')"
      ],
      "execution_count": 0,
      "outputs": []
    },
    {
      "metadata": {
        "id": "ZQ1JnsjKVyik",
        "colab_type": "code",
        "colab": {}
      },
      "cell_type": "code",
      "source": [
        "X_train2.drop(['id','is_duplicate_y'], axis=1, inplace=True)\n",
        "X_test2.drop(['id','is_duplicate_y'], axis=1, inplace=True)"
      ],
      "execution_count": 0,
      "outputs": []
    },
    {
      "metadata": {
        "id": "00S-SFijXZZ3",
        "colab_type": "code",
        "outputId": "586136f0-55d6-4689-d1ea-3dcf3341c96a",
        "colab": {
          "base_uri": "https://localhost:8080/",
          "height": 85
        }
      },
      "cell_type": "code",
      "source": [
        "print(\"Final Data matrix for Set-2 For XGboost is\")\n",
        "print(X_train2.shape, y_train.shape)\n",
        "print(X_test2.shape, y_test.shape)\n",
        "print(\"=\"*100)"
      ],
      "execution_count": 0,
      "outputs": [
        {
          "output_type": "stream",
          "text": [
            "Final Data matrix for Set-2 For XGboost is\n",
            "(28000, 794) (28000,)\n",
            "(12000, 794) (12000,)\n",
            "====================================================================================================\n"
          ],
          "name": "stdout"
        }
      ]
    },
    {
      "metadata": {
        "id": "i613kjUTqAss",
        "colab_type": "text"
      },
      "cell_type": "markdown",
      "source": [
        "<h2>7. XGBoost with RandomizedSearchCV to Tune Hyperparameters</h2>"
      ]
    },
    {
      "metadata": {
        "id": "2x3idTHnqQL7",
        "colab_type": "text"
      },
      "cell_type": "markdown",
      "source": [
        "<h3>7.1 Finding hyperpameters</h3>"
      ]
    },
    {
      "metadata": {
        "id": "7N4T4SqjnWXi",
        "colab_type": "code",
        "colab": {}
      },
      "cell_type": "code",
      "source": [
        "import xgboost as xgb\n",
        "from sklearn.model_selection import RandomizedSearchCV\n",
        "from sklearn.model_selection import GridSearchCV\n",
        "clf = xgb.XGBClassifier()\n",
        "param_grid = {\n",
        "        'max_depth': [1,3,4,5],\n",
        "        'learning_rate': [0.1, 0.2, 0,3],\n",
        "        'n_estimators': [1,16,64,100,200]}\n",
        "rs_clf = GridSearchCV(clf, param_grid,\n",
        "                            verbose=15,\n",
        "                            scoring='neg_log_loss')\n",
        "rs_clf.fit(X_train2, y_train)"
      ],
      "execution_count": 0,
      "outputs": []
    },
    {
      "metadata": {
        "id": "ARnZq_4hqapR",
        "colab_type": "code",
        "colab": {
          "base_uri": "https://localhost:8080/",
          "height": 1105
        },
        "outputId": "86bffdca-2949-434f-9a84-cbd609300d23"
      },
      "cell_type": "code",
      "source": [
        "# Please compare all your models using Prettytable library\n",
        "# pretty table http://zetcode.com/python/prettytable/\n",
        "from prettytable import PrettyTable\n",
        "train_loss= rs_clf.cv_results_['mean_train_score']\n",
        "cv_loss = rs_clf.cv_results_['mean_test_score']\n",
        "train_loss=np.around(train_loss, decimals=2, out=None)\n",
        "cv_loss = np.around(cv_loss, decimals=2, out=None)\n",
        "x = PrettyTable()\n",
        "ittr=0\n",
        "i=0\n",
        "j=0\n",
        "k=0\n",
        "l=0\n",
        "m=0\n",
        "while(ittr<60):\n",
        "  x.field_names = [\"learning_rate\", \"max_depth\",\"n_estimators\",\"Train Log Loss\",\"CV Log Loss\"]\n",
        "  x.add_row([param_grid[\"learning_rate\"][l],param_grid[\"max_depth\"][m],param_grid[\"n_estimators\"][k],train_loss[ittr],cv_loss[ittr]])\n",
        "  i=i+1\n",
        "  j=j+1\n",
        "  k=k+1\n",
        "  ittr=ittr+1\n",
        "  if(j>=5):\n",
        "    j=0\n",
        "    m=m+1\n",
        "    if(i>=20):\n",
        "      m=0\n",
        "  if(i>=20):\n",
        "    i=0\n",
        "    l=l+1\n",
        "  if(k>=5):\n",
        "    k=0\n",
        "print(x)\n"
      ],
      "execution_count": 54,
      "outputs": [
        {
          "output_type": "stream",
          "text": [
            "+---------------+-----------+--------------+----------------+-------------+\n",
            "| learning_rate | max_depth | n_estimators | Train Log Loss | CV Log Loss |\n",
            "+---------------+-----------+--------------+----------------+-------------+\n",
            "|      0.1      |     1     |      1       |     -0.67      |    -0.67    |\n",
            "|      0.1      |     1     |      16      |     -0.52      |    -0.52    |\n",
            "|      0.1      |     1     |      64      |     -0.44      |    -0.44    |\n",
            "|      0.1      |     1     |     100      |     -0.42      |    -0.42    |\n",
            "|      0.1      |     1     |     200      |      -0.4      |     -0.4    |\n",
            "|      0.1      |     3     |      1       |     -0.66      |    -0.66    |\n",
            "|      0.1      |     3     |      16      |     -0.45      |    -0.45    |\n",
            "|      0.1      |     3     |      64      |     -0.37      |    -0.38    |\n",
            "|      0.1      |     3     |     100      |     -0.34      |    -0.37    |\n",
            "|      0.1      |     3     |     200      |      -0.3      |    -0.36    |\n",
            "|      0.1      |     4     |      1       |     -0.65      |    -0.65    |\n",
            "|      0.1      |     4     |      16      |     -0.43      |    -0.43    |\n",
            "|      0.1      |     4     |      64      |     -0.34      |    -0.37    |\n",
            "|      0.1      |     4     |     100      |     -0.31      |    -0.36    |\n",
            "|      0.1      |     4     |     200      |     -0.25      |    -0.35    |\n",
            "|      0.1      |     5     |      1       |     -0.65      |    -0.65    |\n",
            "|      0.1      |     5     |      16      |     -0.41      |    -0.42    |\n",
            "|      0.1      |     5     |      64      |     -0.31      |    -0.36    |\n",
            "|      0.1      |     5     |     100      |     -0.26      |    -0.36    |\n",
            "|      0.1      |     5     |     200      |     -0.18      |    -0.35    |\n",
            "|      0.2      |     1     |      1       |     -0.65      |    -0.65    |\n",
            "|      0.2      |     1     |      16      |     -0.47      |    -0.47    |\n",
            "|      0.2      |     1     |      64      |     -0.41      |    -0.41    |\n",
            "|      0.2      |     1     |     100      |      -0.4      |     -0.4    |\n",
            "|      0.2      |     1     |     200      |     -0.38      |    -0.39    |\n",
            "|      0.2      |     3     |      1       |     -0.62      |    -0.62    |\n",
            "|      0.2      |     3     |      16      |      -0.4      |     -0.4    |\n",
            "|      0.2      |     3     |      64      |     -0.33      |    -0.36    |\n",
            "|      0.2      |     3     |     100      |      -0.3      |    -0.36    |\n",
            "|      0.2      |     3     |     200      |     -0.24      |    -0.36    |\n",
            "|      0.2      |     4     |      1       |     -0.62      |    -0.62    |\n",
            "|      0.2      |     4     |      16      |     -0.38      |    -0.39    |\n",
            "|      0.2      |     4     |      64      |     -0.29      |    -0.36    |\n",
            "|      0.2      |     4     |     100      |     -0.24      |    -0.36    |\n",
            "|      0.2      |     4     |     200      |     -0.16      |    -0.36    |\n",
            "|      0.2      |     5     |      1       |     -0.61      |    -0.61    |\n",
            "|      0.2      |     5     |      16      |     -0.35      |    -0.38    |\n",
            "|      0.2      |     5     |      64      |     -0.24      |    -0.36    |\n",
            "|      0.2      |     5     |     100      |     -0.18      |    -0.36    |\n",
            "|      0.2      |     5     |     200      |     -0.08      |    -0.36    |\n",
            "|      0.3      |     1     |      1       |     -0.63      |    -0.63    |\n",
            "|      0.3      |     1     |      16      |     -0.45      |    -0.45    |\n",
            "|      0.3      |     1     |      64      |      -0.4      |     -0.4    |\n",
            "|      0.3      |     1     |     100      |     -0.38      |    -0.39    |\n",
            "|      0.3      |     1     |     200      |     -0.36      |    -0.38    |\n",
            "|      0.3      |     3     |      1       |     -0.59      |    -0.59    |\n",
            "|      0.3      |     3     |      16      |     -0.38      |    -0.38    |\n",
            "|      0.3      |     3     |      64      |     -0.31      |    -0.36    |\n",
            "|      0.3      |     3     |     100      |     -0.27      |    -0.36    |\n",
            "|      0.3      |     3     |     200      |      -0.2      |    -0.37    |\n",
            "|      0.3      |     4     |      1       |     -0.58      |    -0.58    |\n",
            "|      0.3      |     4     |      16      |     -0.36      |    -0.38    |\n",
            "|      0.3      |     4     |      64      |     -0.25      |    -0.36    |\n",
            "|      0.3      |     4     |     100      |      -0.2      |    -0.37    |\n",
            "|      0.3      |     4     |     200      |      -0.1      |    -0.38    |\n",
            "|      0.3      |     5     |      1       |     -0.58      |    -0.58    |\n",
            "|      0.3      |     5     |      16      |     -0.33      |    -0.37    |\n",
            "|      0.3      |     5     |      64      |     -0.18      |    -0.36    |\n",
            "|      0.3      |     5     |     100      |     -0.12      |    -0.37    |\n",
            "|      0.3      |     5     |     200      |     -0.04      |    -0.39    |\n",
            "+---------------+-----------+--------------+----------------+-------------+\n"
          ],
          "name": "stdout"
        }
      ]
    },
    {
      "metadata": {
        "id": "Kfg90E6EwPOt",
        "colab_type": "text"
      },
      "cell_type": "markdown",
      "source": [
        "<h3>7.2 Training the model with Best Hyperparameters</h3> "
      ]
    },
    {
      "metadata": {
        "id": "AZV3cU8PwomV",
        "colab_type": "code",
        "colab": {
          "base_uri": "https://localhost:8080/",
          "height": 346
        },
        "outputId": "a4393150-7f54-4ced-9d97-dff147788c8b"
      },
      "cell_type": "code",
      "source": [
        "best_max_depth=3\n",
        "best_n_estimators=64\n",
        "learning_rate=0.2\n",
        "neigh=xgb.XGBClassifier(max_depth=best_max_depth,learning_rate=learning_rate,n_estimators=best_n_estimators);\n",
        "neigh.fit(X_train2,y_train)\n",
        "sig_clf = CalibratedClassifierCV(neigh, method=\"sigmoid\")\n",
        "sig_clf.fit(X_train2, y_train)\n",
        "\n",
        "predict_y = sig_clf.predict_proba(X_train2)\n",
        "print(\"For values of best Hyperparameter The train log loss is:\",log_loss(y_train, predict_y, labels=neigh.classes_, eps=1e-15))\n",
        "predict_y = sig_clf.predict_proba(X_test2)\n",
        "print(\"For values of best Hyperparameters The test log loss is:\",log_loss(y_test, predict_y, labels=neigh.classes_, eps=1e-15))\n",
        "predicted_y =np.argmax(predict_y,axis=1)\n",
        "print(\"Total number of data points :\", len(predicted_y))\n",
        "plot_confusion_matrix(y_test, predicted_y)"
      ],
      "execution_count": 63,
      "outputs": [
        {
          "output_type": "stream",
          "text": [
            "For values of best Hyperparameter The train log loss is: 0.3382014919883852\n",
            "For values of best Hyperparameters The test log loss is: 0.36619040305402745\n",
            "Total number of data points : 12000\n"
          ],
          "name": "stdout"
        },
        {
          "output_type": "display_data",
          "data": {
            "image/png": "[encoded data removed]",
            "text/plain": [
              "<Figure size 1440x288 with 6 Axes>"
            ]
          },
          "metadata": {
            "tags": []
          }
        }
      ]
    },
    {
      "metadata": {
        "id": "FY_XErA0ChDB",
        "colab_type": "text"
      },
      "cell_type": "markdown",
      "source": [
        "**Observations:**\n",
        "\n",
        "\n",
        "1.   From the above block we got to know that the best value of our hyperparameters\n",
        "2.   With that alpha we trained our model.\n",
        "3.   The test score we got is 0.36 which is certainly between 0 to 0.89 which is a good sign\n",
        "4.   based on the scores of train and test loss we can say that we are not underfitting\n",
        "\n"
      ]
    },
    {
      "metadata": {
        "id": "8zCIDoVZ0JAg",
        "colab_type": "text"
      },
      "cell_type": "markdown",
      "source": [
        "<h2>8. Conclusion"
      ]
    },
    {
      "metadata": {
        "id": "VD-xB6Vb0ThQ",
        "colab_type": "code",
        "colab": {
          "base_uri": "https://localhost:8080/",
          "height": 170
        },
        "outputId": "1b36a47d-23c0-4640-cf3a-37476af5d4c8"
      },
      "cell_type": "code",
      "source": [
        "# pretty table http://zetcode.com/python/prettytable/\n",
        "from prettytable import PrettyTable\n",
        "x = PrettyTable()\n",
        "x.field_names = [\"Vectorizer\", \"Model\", \"Hyperparameters\",\" Test Logg Loss\"]\n",
        "x.add_row([\"TFIDF\", \"Logistic Regression\",\"0.1(alpha)\",0.458])\n",
        "x.add_row([\"TFIDF\", \"Linear SVM\",\"0.1(alpha)\",0.475])\n",
        "x.add_row([\"TFIDF WEIGHTED W2V\", \"XGBoost\",\"0.2(learning_rate)\\n3(max_depth)\\n64(n_estimators)\",0.366])\n",
        "print(x)"
      ],
      "execution_count": 64,
      "outputs": [
        {
          "output_type": "stream",
          "text": [
            "+--------------------+---------------------+--------------------+-----------------+\n",
            "|     Vectorizer     |        Model        |  Hyperparameters   |  Test Logg Loss |\n",
            "+--------------------+---------------------+--------------------+-----------------+\n",
            "|       TFIDF        | Logistic Regression |     0.1(alpha)     |      0.458      |\n",
            "|       TFIDF        |      Linear SVM     |     0.1(alpha)     |      0.475      |\n",
            "| TFIDF WEIGHTED W2V |       XGBoost       | 0.2(learning_rate) |      0.366      |\n",
            "|                    |                     |    3(max_depth)    |                 |\n",
            "|                    |                     |  64(n_estimators)  |                 |\n",
            "+--------------------+---------------------+--------------------+-----------------+\n"
          ],
          "name": "stdout"
        }
      ]
    },
    {
      "metadata": {
        "id": "vwEZOjYtCztl",
        "colab_type": "text"
      },
      "cell_type": "markdown",
      "source": [
        "## Final Observations:\n",
        "\n",
        "\n",
        "1.   We have two sets of data the first set is TFIDF encoding of Question features\n",
        "2.   The second set of feathers are the weighted TFIDF word2vec Representation of questions\n",
        "3.   We trained a random model to make a upper limit for our log loss and it came out to be 0.89\n",
        "4.   With this we had a interval between 0 to 0.89.\n",
        "5.   Our logistic Regression for our set1 test loss came out to be 0.458\n",
        "6.   Our linear Svm  for our set1 test loss came out to be 0.475\n",
        "7.   Our XgBoost for our set1 test loss came out to be 0.366 at the best hyperparametrs\n",
        "8.   Best thing is that there is no big difference between the loss of our train and test data which says that we are not overfitting\n"
      ]
    }
  ]
}